{
 "cells": [
  {
   "cell_type": "markdown",
   "metadata": {},
   "source": [
    "# Some basic command line stuff\n",
    "\n",
    "## Directories\n",
    "\n",
    "Here are some useful shell commands for creating, editing and manipulating files (e.g. python scripts/markdown/etc...)\n",
    "\n",
    "* make a new directory named stuff inside the current directory\n",
    "\n",
    "```bash\n",
    "$ mkdir stuff\n",
    "```\n",
    "\n",
    "\n",
    "*  change to a directory named stuff \n",
    "\n",
    "```bash\n",
    "$ cd stuff\n",
    "```\n",
    "\n",
    "* list all files and folders in the current directory\n",
    "\n",
    "```\n",
    "$ ls\n",
    "```\n"
   ]
  },
  {
   "cell_type": "markdown",
   "metadata": {},
   "source": [
    "## Editing files\n",
    "\n",
    "There are (at least) 3 text editors available from the terminal command line; nano, emacs or vim\n",
    "\n",
    "* create a new file called `newfile.py` and open it for editing\n",
    "\n",
    "```bash\n",
    "$ nano newfile.py\n",
    "```\n",
    "\n",
    "Of the 3 editors mentioned, nano is probably the most straightforward. It is also probably the least powerful.\n",
    "Emacs is probably the most popular. Vim is probably the hardest to get started with but is incredibly powerful and easy to use once you get over the initial weirdness. Google will find lots of tutorials on using nano/emacs/vim. "
   ]
  },
  {
   "cell_type": "markdown",
   "metadata": {},
   "source": [
    "## copying and deleting\n",
    "\n",
    "* make a copy of the file named 'myfile'. The copy will be called 'mycopy'\n",
    "```bash\n",
    "$ cp myfile mycopy\n",
    "```\n",
    "\n",
    "* delete (remove) a file\n",
    "```bash\n",
    "$ rm myfile\n",
    "```\n",
    "\n",
    "NB `rm` will permanently and immediately delete the file (there is no trash folder) so use with care. You **cannot undelete** a removed file"
   ]
  },
  {
   "cell_type": "code",
   "execution_count": null,
   "metadata": {},
   "outputs": [],
   "source": []
  }
 ],
 "metadata": {
  "kernelspec": {
   "display_name": "Python 3",
   "language": "python",
   "name": "python3"
  },
  "language_info": {
   "codemirror_mode": {
    "name": "ipython",
    "version": 3
   },
   "file_extension": ".py",
   "mimetype": "text/x-python",
   "name": "python",
   "nbconvert_exporter": "python",
   "pygments_lexer": "ipython3",
   "version": "3.6.2"
  }
 },
 "nbformat": 4,
 "nbformat_minor": 2
}
