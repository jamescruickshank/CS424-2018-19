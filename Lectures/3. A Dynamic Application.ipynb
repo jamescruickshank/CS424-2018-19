{
 "cells": [
  {
   "cell_type": "markdown",
   "metadata": {
    "slideshow": {
     "slide_type": "slide"
    }
   },
   "source": [
    "# A simple Django application\n",
    "\n",
    "With standalone HTML pages we can only interact with our web application in a very limited way - by following links to predefined static pages. \n",
    "\n",
    "**Requirement:** Create a web application that responds with `'Hello <name>'` where `<name>` is an arbitrary string that is passed in the URL. So if we visit `http://jupyter.nuigalway.ie:8880/John` it will respond with `'Hello John'` and the name **can be any string**\n",
    "\n",
    "We can't do this with static HTML. \n",
    "\n",
    "There are many ways to achieve this - we will use it as an opportunity to introduce **Django**"
   ]
  },
  {
   "cell_type": "markdown",
   "metadata": {
    "slideshow": {
     "slide_type": "slide"
    }
   },
   "source": [
    "## Setting up a Django project\n",
    "\n",
    "1. First create and activate a virtual environment\n",
    "```\n",
    "$ conda create -n djangodev\n",
    "$ source activate djangodev\n",
    "```\n",
    "2. Now install Django in the virtual env\n",
    "```\n",
    "$ conda install django\n",
    "```\n",
    "\n",
    "3. Create a Django project called greeter (or whatever name you want instead)\n",
    "```\n",
    "$ django-admin startproject greeter\n",
    "```"
   ]
  },
  {
   "cell_type": "markdown",
   "metadata": {
    "slideshow": {
     "slide_type": "slide"
    }
   },
   "source": [
    "## Starting the Development Server\n",
    "\n",
    "1. Change to the root directory of the project, apply initial migrations and add `jupyter.nuigalway.ie` to ALLOWED_HOSTS. If you called your project something other than greeter, modify the commands correspondingly\n",
    "\n",
    "\n",
    "```\n",
    "$ cd greeter\n",
    "$ python manage.py migrate\n",
    "$ sed -i \"s/ALLOWED_HOSTS = \\[\\]/ALLOWED_HOSTS = \\['jupyter.nuigalway.ie'\\]/\" greeter/settings.py\n",
    "\n",
    "```\n",
    "\n",
    "\n",
    "\n",
    "\n",
    "2. Start the dev server on port 8881\n",
    "\n",
    "```\n",
    "$ python manage.py runserver 0.0.0.0:8881\n",
    "```\n",
    "\n",
    "Now, open a browser and go to `http://jupyter.nuigalway.ie:8881`"
   ]
  },
  {
   "cell_type": "markdown",
   "metadata": {
    "slideshow": {
     "slide_type": "slide"
    }
   },
   "source": [
    "## Implementing the required application\n",
    "\n",
    "All of the above is boilerplate that applies to any new Django project - essentially this is the process of \n",
    "'switching Django on'.  To meet our requirement we must\n",
    "\n",
    "1. Write a function that accepts a string and returns the required HTTP response. This function is our first example of a **view**. In Django, views are where we implement the logic that determines the content to be displayed(*). In this case the logic is very simple.\n",
    "\n",
    "2. Configure the application to capture a string from the URL and pass that string to the view function above. This is done by the **URL dispatcher**. \n",
    "\n",
    "<sup>(*) This usage of the term view is not standard. In most other frameworks (eg Rails, Laravel, ...) 'view' has a different meaning.</sup> \n"
   ]
  },
  {
   "cell_type": "markdown",
   "metadata": {
    "slideshow": {
     "slide_type": "slide"
    }
   },
   "source": [
    "### The View\n",
    "\n",
    "Note that all paths are given relative to the root directory of the project (that is the directory that contains the file `manage.py`)\n",
    "\n",
    "Create a file called `views.py` in `/greeter/` with the following code\n",
    "\n",
    "```python\n",
    "from django.http import HttpResponse\n",
    "\n",
    "def index(request,name):\n",
    "    return HttpResponse('Hello %s'%name)\n",
    "```"
   ]
  },
  {
   "cell_type": "markdown",
   "metadata": {
    "slideshow": {
     "slide_type": "slide"
    }
   },
   "source": [
    "### Routing the URL\n",
    "\n",
    "Now edit `/greeter/urls.py` so that it contains \n",
    "```python\n",
    "from greeter.views import index\n",
    "```\n",
    "\n",
    "and so that the `urlpatterns` list contains \n",
    "```python\n",
    "...\n",
    "    path('<str:name>',index),\n",
    "...\n",
    "```\n",
    "Now visit 'http:jupyter.nuigalway.ie:8881/DonaldTrump' in your browser. Edit the URL by changing the name and reload\n"
   ]
  },
  {
   "cell_type": "markdown",
   "metadata": {
    "slideshow": {
     "slide_type": "slide"
    }
   },
   "source": [
    "So now we can capture input from the URL and then return HTTP responses that are computed using that input. This is the essence of a dynamic application. However, we generally want something a lot more complicated than our greeter app. In particular we would like to be able to \n",
    "\n",
    "* accept various different types of HTTP requests to various different URLs and process them accordingly\n",
    "* store and retrieve data to/from a database and use this data to construct responses\n",
    "* create more complicated HTML in an efficient and easily maintainable way\n",
    "\n",
    "Moreover, we definitely want to design our code so that it is maintainable, reusable and extensible. \n",
    "Ideally we want to cleanly separate the three layers mentioned above. Frameworks like Django make this much easier to achieve."
   ]
  },
  {
   "cell_type": "markdown",
   "metadata": {
    "slideshow": {
     "slide_type": "slide"
    }
   },
   "source": []
  }
 ],
 "metadata": {
  "celltoolbar": "Slideshow",
  "kernelspec": {
   "display_name": "Python 3",
   "language": "python",
   "name": "python3"
  },
  "language_info": {
   "codemirror_mode": {
    "name": "ipython",
    "version": 3
   },
   "file_extension": ".py",
   "mimetype": "text/x-python",
   "name": "python",
   "nbconvert_exporter": "python",
   "pygments_lexer": "ipython3",
   "version": "3.6.5"
  },
  "livereveal": {
   "theme": "sky",
   "transition": "convex"
  }
 },
 "nbformat": 4,
 "nbformat_minor": 2
}
