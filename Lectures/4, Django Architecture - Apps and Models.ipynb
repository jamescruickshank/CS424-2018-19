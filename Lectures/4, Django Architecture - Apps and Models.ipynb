{
 "cells": [
  {
   "cell_type": "markdown",
   "metadata": {
    "slideshow": {
     "slide_type": "slide"
    }
   },
   "source": [
    "# Django Architecture: Apps and models\n",
    "\n",
    "Django projects are generally subdivided into **apps**\n",
    "\n",
    "# Sample Project: A GAA club website\n",
    "\n",
    "```bash\n",
    "$ django-admin startproject clubsite\n",
    "```\n",
    "\n",
    "We might have the following apps\n",
    "\n",
    "* clubmanager: deals with member information, subscriptions, committees.\n",
    "* teams: deals with competitions, fixtures, tables, results, team sheets\n",
    "\n",
    "```bash\n",
    "$ cd clubsite\n",
    "$ python manage.py startapp clubmanager\n",
    "```\n",
    "now edit `settings.py` to include the 'clubmanager' in the `INSTALLED_APPS` list\n",
    "\n"
   ]
  },
  {
   "cell_type": "markdown",
   "metadata": {
    "slideshow": {
     "slide_type": "slide"
    }
   },
   "source": [
    "## Models\n",
    "\n",
    "A **model** is a representation of data. Typically model classes inherit from `models.Model`\n",
    "\n",
    "```python\n",
    "\n",
    "from django.db import models\n",
    "\n",
    "class Member(models.Model):\n",
    "    first_name = models.CharField(max_length=50)\n",
    "    last_name = models.CharField(max_length=50)\n",
    "```\n",
    "Now we need to update the database\n",
    "```bash \n",
    "$ python manage.py makemigrations\n",
    "$ python manage.py migrate\n",
    "```\n",
    "\n",
    "[Django docs on models](https://docs.djangoproject.com/en/2.1/topics/db/models/)"
   ]
  },
  {
   "cell_type": "markdown",
   "metadata": {
    "slideshow": {
     "slide_type": "slide"
    }
   },
   "source": [
    "## The Django Admin Site\n",
    "\n",
    "Django has a built in content management system. It is quite powerful and \n",
    "extremely configurable/customisable. First\n",
    "```bash\n",
    "$ python manage.py createsuperuser\n",
    "```\n",
    "Now log in at `/admin` and add some data to your app.\n",
    "\n",
    "Notice that Django has built-in user management and authentication functionality.\n",
    "\n",
    "It is possible (even encouraged) to customise both the functionality and the look and feel of the admin app. [see Django docs for the admin](https://docs.djangoproject.com/en/2.1/ref/contrib/admin/)"
   ]
  },
  {
   "cell_type": "markdown",
   "metadata": {
    "slideshow": {
     "slide_type": "slide"
    }
   },
   "source": [
    "## The ORM \n",
    "\n",
    "`django.db.models` is an **Object Relational Mapping**. It provides a consistent API to the database backend. There are several advantages to this including ...\n",
    "* You can change the database without having to change the application code\n",
    "* The API is a lot more 'user-friendly' than raw SQL\n",
    "* It allows you to use all the object-oriented features of Python when dealing with your data: inheritance, encapsulation, etc..\n",
    "\n",
    "We can explore the Django ORM with the Python shell. \n",
    "```bash\n",
    "$ python manage.py shell\n",
    "```\n",
    "will launch a python shell and set various environment variables so that you can interact directly with your application code."
   ]
  },
  {
   "cell_type": "markdown",
   "metadata": {
    "slideshow": {
     "slide_type": "slide"
    }
   },
   "source": [
    "## CRUD\n",
    "stands for **Create, Read, Update, Delete** which are the 4 basic things that we can do with our data.\n",
    "\n",
    "\n",
    "* Create: \n",
    "'''python\n",
    "member = Member(first_name='Joe',last_name='Bloggs')\n",
    "member.save() # saves to the database\n",
    "```\n",
    "* Read:\n",
    "```python \n",
    "members = Member.objects.all()\n",
    "```\n",
    "returns a Django `queryset` object. Querysets are iterables  like lists, but have many features that assist with \n",
    "easy manipulation of data. Notably they employ **lazy evaluation** in order to improve application performance. \n",
    "\n",
    "**DATABASE QUERIES ARE EXPENSIVE!**"
   ]
  },
  {
   "cell_type": "markdown",
   "metadata": {
    "slideshow": {
     "slide_type": "slide"
    }
   },
   "source": [
    "## Relation Fields\n",
    "\n",
    "The key feature of relational database systems is that they are **relational**. The Django ORM has many nice features to encode relationships in your data.\n",
    "\n",
    "* `models.ForeignKey`\n",
    "* `models.ManyToManyField`\n",
    "* `models.OneToOneField`\n",
    "\n",
    "Querysets are designed to allow easy navigation of the relationships defined by these fields."
   ]
  }
 ],
 "metadata": {
  "celltoolbar": "Slideshow",
  "kernelspec": {
   "display_name": "Python 3",
   "language": "python",
   "name": "python3"
  },
  "language_info": {
   "codemirror_mode": {
    "name": "ipython",
    "version": 3
   },
   "file_extension": ".py",
   "mimetype": "text/x-python",
   "name": "python",
   "nbconvert_exporter": "python",
   "pygments_lexer": "ipython3",
   "version": "3.6.5"
  },
  "livereveal": {
   "theme": "sky",
   "transition": "convex"
  }
 },
 "nbformat": 4,
 "nbformat_minor": 2
}
