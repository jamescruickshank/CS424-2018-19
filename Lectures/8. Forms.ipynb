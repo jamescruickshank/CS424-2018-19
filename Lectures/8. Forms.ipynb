{
 "cells": [
  {
   "cell_type": "markdown",
   "metadata": {
    "slideshow": {
     "slide_type": "slide"
    }
   },
   "source": [
    "# Forms\n",
    "\n",
    "Up to now, we have only implemented views that retrieve data from the database. Suppose that we want to allow users to update profiles (later we will talk about restricting this capability to certain users)\n",
    "\n",
    "Django has the `forms.ModelForm` class for \n",
    "\n",
    "`clubmanager/forms.py`\n",
    "```python\n",
    "from django import forms\n",
    "from clubmanager.models import Member\n",
    "\n",
    "class MemberForm(forms.ModelForm):\n",
    "    model = Member\n",
    "```\n"
   ]
  },
  {
   "cell_type": "markdown",
   "metadata": {
    "slideshow": {
     "slide_type": "slide"
    }
   },
   "source": [
    "## The view\n",
    "\n",
    "`views.py`\n",
    "```python\n",
    "from clubmanager.forms import MemberForm\n",
    "\n",
    "def member_update(request,member_id):\n",
    "    form = MemberForm()\n",
    "    # now we need to work out whether data is being submitted or not\n",
    "```"
   ]
  },
  {
   "cell_type": "code",
   "execution_count": null,
   "metadata": {},
   "outputs": [],
   "source": []
  }
 ],
 "metadata": {
  "celltoolbar": "Slideshow",
  "kernelspec": {
   "display_name": "Python 3",
   "language": "python",
   "name": "python3"
  },
  "language_info": {
   "codemirror_mode": {
    "name": "ipython",
    "version": 3
   },
   "file_extension": ".py",
   "mimetype": "text/x-python",
   "name": "python",
   "nbconvert_exporter": "python",
   "pygments_lexer": "ipython3",
   "version": "3.6.2"
  }
 },
 "nbformat": 4,
 "nbformat_minor": 2
}
