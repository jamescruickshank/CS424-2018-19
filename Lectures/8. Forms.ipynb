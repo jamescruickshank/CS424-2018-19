{
 "cells": [
  {
   "cell_type": "markdown",
   "metadata": {
    "slideshow": {
     "slide_type": "slide"
    }
   },
   "source": [
    "# Forms\n",
    "\n",
    "Up to now, we have only implemented views that retrieve data from the database. Suppose that we want to allow users to update profiles (later we will talk about restricting this capability to certain users)\n",
    "\n",
    "Django has the `forms.ModelForm` class for \n",
    "\n",
    "`clubmanager/forms.py`\n",
    "```python\n",
    "from django import forms\n",
    "from clubmanager.models import Member\n",
    "\n",
    "class MemberForm(forms.ModelForm):\n",
    "    model = Member\n",
    "```\n"
   ]
  },
  {
   "cell_type": "markdown",
   "metadata": {
    "slideshow": {
     "slide_type": "slide"
    }
   },
   "source": [
    "## The view\n",
    "\n",
    "`views.py`\n",
    "```python\n",
    "from clubmanager.forms import MemberForm\n",
    "\n",
    "def member_update(request,member_id):\n",
    "    form = MemberForm()\n",
    "    # now we need to work out whether data is being submitted or not\n",
    "```"
   ]
  },
  {
   "cell_type": "markdown",
   "metadata": {
    "slideshow": {
     "slide_type": "slide"
    }
   },
   "source": [
    "## The template\n",
    "\n",
    "`member_update.html`\n",
    "```html\n",
    "...\n",
    "<form>\n",
    "\n",
    "{% csrf_token %}\n",
    "\n",
    "    {{ form }}\n",
    "</form>\n",
    "...\n",
    "```\n",
    "You can use `form.as_p` to have the form elements separated by `<p>` tags. \n",
    "\n",
    "The opening and closing `<form> ... </form>` tags\n",
    "are not rendered by the ModelForm class, nor is the submit button.\n",
    "\n",
    "**CSRF** = Cross Site Request Forgery"
   ]
  },
  {
   "cell_type": "markdown",
   "metadata": {
    "slideshow": {
     "slide_type": "slide"
    }
   },
   "source": [
    "## The view (again)\n",
    "\n",
    "A standard pattern is that the form is submitted back to the same URL from whence tit came. So \n",
    "\n",
    "* the form is initially loaded by a `GET` request to `http://example.com/form` \n",
    "* when the user clicks submit the data is submitted back to `http://example.com/form` by a `POST` request\n",
    "\n",
    "We can implement this in the view as follows "
   ]
  },
  {
   "cell_type": "markdown",
   "metadata": {
    "slideshow": {
     "slide_type": "slide"
    }
   },
   "source": [
    "`views.py` \n",
    "```python\n",
    "def member_update(request,member_id):\n",
    "    if request.method == \"POST\":\n",
    "        form = MemberForm(request.POST)\n",
    "        if form.is_valid():\n",
    "            # some code to update the Member object in the database\n",
    "            return HttpResponse('Thanks')\n",
    "        else:\n",
    "            return HttpResponse('Invalid data')\n",
    "    form = MemberForm()\n",
    "    return render(request,'clubmanager/member_update.html',{\n",
    "        'form':form\n",
    "        })\n",
    "```"
   ]
  },
  {
   "cell_type": "markdown",
   "metadata": {
    "slideshow": {
     "slide_type": "slide"
    }
   },
   "source": [
    "This works, but there are several things that would improve it\n",
    "* We would like a slick way to update the database with the form data\n",
    "* We want a better flow when the form is submitted - the user should be directed back to the form if the data does not validate and directed back to the profile page if the data validates\n",
    "* we want a link from the profile page to the update page.\n",
    "* the form should be prepopulated with the existing data when we load it first"
   ]
  },
  {
   "cell_type": "code",
   "execution_count": null,
   "metadata": {
    "slideshow": {
     "slide_type": "slide"
    }
   },
   "outputs": [],
   "source": []
  }
 ],
 "metadata": {
  "celltoolbar": "Slideshow",
  "kernelspec": {
   "display_name": "Python 3",
   "language": "python",
   "name": "python3"
  },
  "language_info": {
   "codemirror_mode": {
    "name": "ipython",
    "version": 3
   },
   "file_extension": ".py",
   "mimetype": "text/x-python",
   "name": "python",
   "nbconvert_exporter": "python",
   "pygments_lexer": "ipython3",
   "version": "3.6.5"
  }
 },
 "nbformat": 4,
 "nbformat_minor": 2
}
