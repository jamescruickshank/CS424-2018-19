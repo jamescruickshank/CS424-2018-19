{
 "cells": [
  {
   "cell_type": "markdown",
   "metadata": {
    "slideshow": {
     "slide_type": "slide"
    }
   },
   "source": [
    "# Templates continued ...\n",
    "\n",
    "## Inheritance \n",
    "\n",
    "A common design pattern for websites is that every page on the website will have some common elements such as a logo, general site navigation menus, search box, etc and then the main content of the page will change according to the resource being viewed\n",
    "\n",
    "DRY insists that we should code the common elements in only one template and somehow inject then into all other templates. The Django template syatem has a nice way to achieve this. \n",
    "\n"
   ]
  },
  {
   "cell_type": "markdown",
   "metadata": {},
   "source": [
    "## Template tags \n",
    "\n",
    "Sometimes it makes sense to have some small amount of logic in the template. For example, think about a page in our sample app that lists all active members. It is useful to be able to loop throught the data and apply a simple conditional "
   ]
  },
  {
   "cell_type": "markdown",
   "metadata": {},
   "source": [
    "## Hyperlinks in a template\n",
    "\n",
    "A rule of thumb: internal links should **never** be hard-coded. Again Django comes to the rescue with the `url` template tag"
   ]
  },
  {
   "cell_type": "code",
   "execution_count": null,
   "metadata": {},
   "outputs": [],
   "source": []
  }
 ],
 "metadata": {
  "celltoolbar": "Slideshow",
  "kernelspec": {
   "display_name": "Python 3",
   "language": "python",
   "name": "python3"
  },
  "language_info": {
   "codemirror_mode": {
    "name": "ipython",
    "version": 3
   },
   "file_extension": ".py",
   "mimetype": "text/x-python",
   "name": "python",
   "nbconvert_exporter": "python",
   "pygments_lexer": "ipython3",
   "version": "3.6.5"
  }
 },
 "nbformat": 4,
 "nbformat_minor": 2
}
