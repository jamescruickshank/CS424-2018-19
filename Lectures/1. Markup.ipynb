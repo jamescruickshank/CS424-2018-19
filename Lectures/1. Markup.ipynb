{
 "cells": [
  {
   "cell_type": "markdown",
   "metadata": {
    "slideshow": {
     "slide_type": "slide"
    }
   },
   "source": [
    "# HTML\n",
    "\n",
    "HyperText Markup Language is a markup language that is used for specifying the content and structure of a document on the (world wide) web. HTML specification maintained by World Wide Web Consortium (www.w3.org).\n",
    "\n",
    "* Documents are modelled as rooted tree structures; the Document Object Model (DOM)\n",
    "* Nodes are specified by tags like `<p>...</p>`\n",
    "* Current version is HTML5, which (among other things) supports video and audio content and adds more support for complicated interactions using the canvas element.\n"
   ]
  },
  {
   "cell_type": "markdown",
   "metadata": {
    "slideshow": {
     "slide_type": "slide"
    }
   },
   "source": [
    "```html\n",
    "<!doctype html>\n",
    "<html lang=\"en\">\n",
    "    <head>\n",
    "        <meta charset=\"UTF-8\" />\n",
    "        <meta http-equiv=\"refresh\" content=\"30\">\n",
    "        <title>The title of the webpage</title>\n",
    "    </head>\n",
    "    <body>\n",
    "        <h1>A big heading</h1>\n",
    "        <p> A paragraph</p>\n",
    "        <p> Sometimes closing tags are optional\n",
    "        <!-- comment like this -->\n",
    "        <span id=\"elementName\">Elements can have attributes</span>\n",
    "        <div>\n",
    "            This is a new section of the body.\n",
    "        </div>\n",
    "    </body>\n",
    "</html>\n",
    "```"
   ]
  },
  {
   "cell_type": "markdown",
   "metadata": {
    "slideshow": {
     "slide_type": "slide"
    }
   },
   "source": [
    "## HTML continued\n",
    "\n",
    "\n",
    "* In HTML 5, tags are meant to be **semantic**\n",
    "* The head section contains meta information about the document such as character encodings, titles, locations of style files, etc\n",
    "* The actual content is in the body section"
   ]
  },
  {
   "cell_type": "markdown",
   "metadata": {
    "slideshow": {
     "slide_type": "slide"
    }
   },
   "source": [
    "## Some other widely used markup languages\n",
    "\n",
    "* XML: A data transfer protocol. Very important for web services.\n",
    "* TeX/LaTeX: markup languages for typesetting printed documents. Particularly good for typesetting mathematics.\n",
    "* Markdown: used to create these slides in the jupyter notebook. Also standard for the README file in a git repository\n",
    "   \n"
   ]
  },
  {
   "cell_type": "markdown",
   "metadata": {
    "slideshow": {
     "slide_type": "subslide"
    }
   },
   "source": [
    "## Markdown\n",
    "\n",
    "This is a lightweight markup language that is more convenient for humans to create than HTML but can automatically be converted to HTML. It \n",
    "\n",
    "An example: \n",
    "```markdown\n",
    "# This is a Heading\n",
    "## A subheading \n",
    "\n",
    "<ul>\n",
    "    <li> we can put some HTML </li>\n",
    "</ul>\n",
    "_italics_, **bold**\n",
    "```\n",
    "Double click on any cell in these slides to see the markkdown source."
   ]
  },
  {
   "cell_type": "markdown",
   "metadata": {
    "slideshow": {
     "slide_type": "slide"
    }
   },
   "source": [
    "## Creating a simple static webpage\n",
    "\n",
    "You can create a static webpage as follows:\n",
    "\n",
    "1. Create a directory (folder) called public_html in your home directory.\n",
    "2. Create an HTML file in this directory called index.html\n",
    "3. Navigate to jupyter.nuigalway.ie:8080/~`<username>`\n",
    "\n",
    "### Exercise\n",
    "Create a web application that will diplay the message \"Hello\" together with a link to another page in your application. The second page should display the message \"Thanks\" and a link back to the first page."
   ]
  },
  {
   "cell_type": "markdown",
   "metadata": {
    "slideshow": {
     "slide_type": "slide"
    }
   },
   "source": [
    "## Resources\n",
    "\n",
    "* [https://github.com/jamescruickshank/CS424-2018-19](https://github.com/jamescruickshank/CS424-2018-19) A github repository for course material\n",
    "* [w3schools.com](https://www.w3schools.com/) - standard resource for all things web dev related. Lots of interactive examples\n",
    "* [Github markdown cheatsheet](https://guides.github.com/pdfs/markdown-cheatsheet-online.pdf)"
   ]
  },
  {
   "cell_type": "markdown",
   "metadata": {
    "slideshow": {
     "slide_type": "slide"
    }
   },
   "source": [
    "### A small heading\n",
    "some text"
   ]
  },
  {
   "cell_type": "code",
   "execution_count": null,
   "metadata": {},
   "outputs": [],
   "source": []
  }
 ],
 "metadata": {
  "celltoolbar": "Slideshow",
  "kernelspec": {
   "display_name": "Python 3",
   "language": "python",
   "name": "python3"
  },
  "language_info": {
   "codemirror_mode": {
    "name": "ipython",
    "version": 3
   },
   "file_extension": ".py",
   "mimetype": "text/x-python",
   "name": "python",
   "nbconvert_exporter": "python",
   "pygments_lexer": "ipython3",
   "version": "3.6.5"
  },
  "livereveal": {
   "theme": "sky"
  }
 },
 "nbformat": 4,
 "nbformat_minor": 2
}
