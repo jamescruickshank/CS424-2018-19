{
 "cells": [
  {
   "cell_type": "markdown",
   "metadata": {
    "slideshow": {
     "slide_type": "slide"
    }
   },
   "source": [
    "# Testing\n",
    "\n",
    "As an application grows in complexity, formalised testing becomes a desirable and ultimately necessary part of the development process.\n",
    "\n",
    "* after a while just checking to see 'if it works' becomes tiresome and time consuming\n",
    "* tests greatly simplify and speed up the process of debugging and often prevent bugs before they ahppen\n",
    "* tests essentially provide a definition of the functionality of the code. This is especially important in collaborative projects.\n",
    "* automated testing can eliminates dependencies on environments and infrastructure e.g. browsers, network restrictions etc...\n"
   ]
  },
  {
   "cell_type": "markdown",
   "metadata": {
    "slideshow": {
     "slide_type": "slide"
    }
   },
   "source": [
    "## Test driven development\n",
    "\n",
    "TDD is a process that makes tests the centre of development process. The basic idea\n",
    "\n",
    "1. Write a test that defines a new piece of code functionality or feature\n",
    "2. write some code that should pass the test\n",
    "3. run the test, if it passes move on to the next development steage\n",
    "4. if it fails debug then go back to 3 go back \n",
    "\n",
    "TDD is a common pattern in large scale commercial development teams. It tends to create robust and clear designs. Also the test suite is created as an integral part of the development cycle rather than created after the code has been written\n"
   ]
  },
  {
   "cell_type": "markdown",
   "metadata": {
    "slideshow": {
     "slide_type": "slide"
    }
   },
   "source": [
    "## Terminology \n",
    "\n",
    "**Unit tests** are tests that test some small piece of code in isolation. They are crucial for debugging complex code. For example we might want to test that a particular method of a certain model does what it is supposed to\n",
    "\n",
    "**end-to-end testing** involves testing a large section of application functionality through the entrire workflow associated with that section. For example, we might want to test that the sign-up process for a website is working correctly.\n",
    "\n",
    "**setup and teardown** are the typically necessary parts of an application test suite. We might have to create some test data for our tests to work (setup) and we want this data to diasappear after testing (teardown)\n",
    "\n",
    "Python has the `unittest` module to assist with creating tests. This can be used with Django, but Django ships with its own testing system that is wrapped around unittest and provides some extra features that are useful for web dev (especially for view testing)\n"
   ]
  },
  {
   "cell_type": "markdown",
   "metadata": {
    "slideshow": {
     "slide_type": "slide"
    }
   },
   "source": [
    "## Example\n",
    "\n",
    "We will write two simple tests for our sample project \n",
    "\n",
    "1. We want a method that will return the initials of a members name. We will write a test first and then some code to pass the test\n",
    "\n",
    "2. We will write a test for a view using django's test client"
   ]
  },
  {
   "cell_type": "code",
   "execution_count": null,
   "metadata": {
    "slideshow": {
     "slide_type": "slide"
    }
   },
   "outputs": [],
   "source": []
  }
 ],
 "metadata": {
  "celltoolbar": "Slideshow",
  "kernelspec": {
   "display_name": "Python 3",
   "language": "python",
   "name": "python3"
  },
  "language_info": {
   "codemirror_mode": {
    "name": "ipython",
    "version": 3
   },
   "file_extension": ".py",
   "mimetype": "text/x-python",
   "name": "python",
   "nbconvert_exporter": "python",
   "pygments_lexer": "ipython3",
   "version": "3.6.5"
  }
 },
 "nbformat": 4,
 "nbformat_minor": 2
}
