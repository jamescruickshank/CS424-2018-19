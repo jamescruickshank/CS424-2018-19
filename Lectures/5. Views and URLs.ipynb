{
 "cells": [
  {
   "cell_type": "markdown",
   "metadata": {
    "slideshow": {
     "slide_type": "slide"
    }
   },
   "source": [
    "# URLs and Views\n",
    "\n",
    "In Django the views determine the data that will be returned and returns a `HttpResponse` object. For example we might want a view that returns information about a club member. In `clubmanager/views.py` ...\n",
    "```python\n",
    "from clubmanager.models import Member\n",
    "from django.http import HttpResponse\n",
    "\n",
    "def member(request,member_id):\n",
    "    member = Member.objects.get(id=member_id)\n",
    "    \n",
    "    return HttpResponse('%s %s'%(member.first_name,member.last_name))\n",
    "```\n",
    "Exercise: Write a view that will return a list of all members and also filter the list according to `GET` parameters\n",
    "   \n",
    "Now we need to hook the views up to URLs ..."
   ]
  },
  {
   "cell_type": "markdown",
   "metadata": {
    "slideshow": {
     "slide_type": "slide"
    }
   },
   "source": [
    "# URLs\n",
    "\n",
    "It's important to plan your URLs in advance. Generally there URL patterns correspond to views and we want variable parts of the URL to be passed to the view as parameters. In the sample project we envisage having (at least) the following URLs\n",
    "* `/` - the site homepage (or index)\n",
    "* `/members` - returns a list of members with minimal information about each\n",
    "* `/member/id/1` - returns detailed information about member 1\n",
    "\n",
    "The last two are URLs associated to the `clubmanager` app so we should prefix them appropriately i.e.\n",
    "`/clubmanager/members` - it's conceivable that another app might also have a (different) `members` URL\n"
   ]
  },
  {
   "cell_type": "markdown",
   "metadata": {
    "slideshow": {
     "slide_type": "slide"
    }
   },
   "source": [
    "## Routing URLs to views\n",
    "\n",
    "in `clubsite/urls.py` \n",
    "```python\n",
    "from django.urls import include, path\n",
    "\n",
    "urlpatterns = [\n",
    "    path('clubmanager',include('clubmanager.urls'))\n",
    "]\n",
    "```\n",
    "in `clubmanager/urls.py` \n",
    "```python \n",
    "from . import views\n",
    "\n",
    "urlpatterns = [\n",
    "    path('member/id/<int:member_id>', views.member)\n",
    "]\n",
    "```"
   ]
  },
  {
   "cell_type": "code",
   "execution_count": null,
   "metadata": {
    "slideshow": {
     "slide_type": "slide"
    }
   },
   "outputs": [],
   "source": []
  }
 ],
 "metadata": {
  "celltoolbar": "Slideshow",
  "kernelspec": {
   "display_name": "Python 3",
   "language": "python",
   "name": "python3"
  },
  "language_info": {
   "codemirror_mode": {
    "name": "ipython",
    "version": 3
   },
   "file_extension": ".py",
   "mimetype": "text/x-python",
   "name": "python",
   "nbconvert_exporter": "python",
   "pygments_lexer": "ipython3",
   "version": "3.6.2"
  },
  "livereveal": {
   "theme": "sky"
  }
 },
 "nbformat": 4,
 "nbformat_minor": 2
}
