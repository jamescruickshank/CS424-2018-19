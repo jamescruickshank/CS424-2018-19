{
 "cells": [
  {
   "cell_type": "markdown",
   "metadata": {
    "slideshow": {
     "slide_type": "slide"
    }
   },
   "source": [
    "# Templates\n",
    "\n",
    "The template layer of Django deals with the process of producing the HTML content in the response. A **template** is a document that defines how a particular piece of data is presented to the end user.\n",
    "\n",
    "**Don't Repeat Yourself** (DRY) is a guiding principle here - typical web apps contain many pages that a lot of HTML in common. Generally the common elements should appear in only one template\n",
    "\n",
    "* **Presentation logc**: this is any logic that is strictly concerned with how the data is presented to the end user. For example, in our sample app we might want to diaplay a list of all Members, but only display email addresses for those over 18. We can implement this logic in the template since it is to do with data presentation.\n",
    "\n",
    "* ** Business logic** This is the logic that encodes the real world \"business\" rules concerning the data. For example we might want to compute a subscription fee for members based on age, number of years, role in the club, etc... This type of logic should appear in views and/or models as it is business logic\n",
    "\n",
    "Generally presentation logic should not be overly complex. If you find yourself creatiing complicated logic within a template, you're probably not doing it right. Either you need more templates or you need to move some logic into a view or a model\n"
   ]
  },
  {
   "cell_type": "markdown",
   "metadata": {
    "slideshow": {
     "slide_type": "slide"
    }
   },
   "source": [
    "## The Django Template System\n",
    "\n",
    "Django ships with its own templating system. It is easy to replace this with a different engine (eg Jinja/Pystache)\n",
    "\n",
    "in `clubmanager/templates/clubmanager` create `member_detail.html` containing:\n",
    "```html\n",
    "<!doctpye html>\n",
    "<html>\n",
    "    <head>\n",
    "        <meta charset=\"utf-8\"/>\n",
    "    </head>\n",
    "    <body>\n",
    "        <h3>Member Information</h3>\n",
    "        <div id=\"member detail\">\n",
    "            <div id=\"member first_name\"> First name</div>\n",
    "            <div id=\"member last_name\"> Last Name</div>\n",
    "        </div>\n",
    "    </body>\n",
    "</html>\n",
    "```\n",
    "          \n",
    "  \n"
   ]
  },
  {
   "cell_type": "code",
   "execution_count": null,
   "metadata": {
    "slideshow": {
     "slide_type": "slide"
    }
   },
   "outputs": [],
   "source": []
  }
 ],
 "metadata": {
  "celltoolbar": "Slideshow",
  "kernelspec": {
   "display_name": "Python 3",
   "language": "python",
   "name": "python3"
  },
  "language_info": {
   "codemirror_mode": {
    "name": "ipython",
    "version": 3
   },
   "file_extension": ".py",
   "mimetype": "text/x-python",
   "name": "python",
   "nbconvert_exporter": "python",
   "pygments_lexer": "ipython3",
   "version": "3.6.5"
  },
  "livereveal": {
   "theme": "sky"
  }
 },
 "nbformat": 4,
 "nbformat_minor": 2
}
