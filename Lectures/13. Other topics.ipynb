{
 "cells": [
  {
   "cell_type": "markdown",
   "metadata": {
    "slideshow": {
     "slide_type": "slide"
    }
   },
   "source": [
    "# Deploying your web app\n",
    "\n",
    "Assuming that the application is debigged and working as required, you will want to **deploy to production**\n",
    "\n",
    "* The development server is insecure and inefficient and should never be used in production\n",
    "* There are many different options for secure server software - see https://en.wikipedia.org/wiki/Comparison_of_web_server_software. We will look at a typical setup with Apache\n",
    "* WSGI (=Web Server Gateway Interface) is a protocol for web server software (eg Apache) to communicate with Python applications. \n",
    "* https://docs.djangoproject.com/en/2.1/howto/deployment/wsgi/modwsgi/"
   ]
  },
  {
   "cell_type": "markdown",
   "metadata": {
    "slideshow": {
     "slide_type": "slide"
    }
   },
   "source": [
    "# Other topics \n",
    "\n",
    "* **Django Class based views** list and detail views are a common pattern in web dev. Django provides this functionality prepackaged in it 'django.views.View' class. \n",
    "\n",
    "* **Asynchronous request handling.** Large scale applications have to be able to handle many concurrent users. Asynchronous code uses multiple threads to handle many tasks at once. Certain frameworks such as **Tornado** are designed with async in mind.\n",
    "\n",
    "* **Web sockets:** an alternative protocol for communication over the internet that supports duplex communications - in contrast with HTTP which is a client-server protocol. More suited to highly interactive applications e.g. cloud-based computing platforms\n"
   ]
  },
  {
   "cell_type": "code",
   "execution_count": null,
   "metadata": {
    "slideshow": {
     "slide_type": "slide"
    }
   },
   "outputs": [],
   "source": []
  }
 ],
 "metadata": {
  "celltoolbar": "Slideshow",
  "kernelspec": {
   "display_name": "Python 3",
   "language": "python",
   "name": "python3"
  },
  "language_info": {
   "codemirror_mode": {
    "name": "ipython",
    "version": 3
   },
   "file_extension": ".py",
   "mimetype": "text/x-python",
   "name": "python",
   "nbconvert_exporter": "python",
   "pygments_lexer": "ipython3",
   "version": "3.6.5"
  }
 },
 "nbformat": 4,
 "nbformat_minor": 2
}
