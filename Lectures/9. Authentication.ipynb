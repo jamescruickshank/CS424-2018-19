{
 "cells": [
  {
   "cell_type": "markdown",
   "metadata": {
    "slideshow": {
     "slide_type": "slide"
    }
   },
   "source": [
    "# Authentication\n",
    "\n",
    "* Authentication is the process of verifying the identity of a user. However HTTP is a **stateless protocol** - client state is not preserved on the server. \n",
    "\n",
    "* Any client state that we wish to preserve must be _stored in the client_ and sent along with subsequent requests \n",
    "\n",
    "* Web applications typically implement this via **HTTP cookies** - small packets of information that are sent to the client with the response and then sent back to the server along with subsequent requests to the same host.\n",
    "\n",
    "You can see these cookies by inspecting the HTTP headers for a request. You can also inspect the cookies stored by your browser at any time."
   ]
  },
  {
   "cell_type": "markdown",
   "metadata": {
    "slideshow": {
     "slide_type": "slide"
    }
   },
   "source": [
    "# The Django User model and Authentication System\n",
    "\n",
    "Django provides a user friendly API for managing the authentication process. This is based around the class `django.contrib.auth.User` which automatically handles all the cookie management and provides easy hooks for authentication. \n",
    "\n",
    "There are various standard views in a typical authentication system - login, logout, password reset, etc. We could implement them from scratch but Django provides well designed and easy-to-use implementations out of the box.\n",
    "\n",
    "Authentication is typically a project wide process, so usually the urls are defined at the project level rather than in a particular app. See the demo app for a system example of this in action.\n",
    "\n",
    "As usual the Django Docs are excellent - https://docs.djangoproject.com/en/2.1/topics/auth/default/"
   ]
  },
  {
   "cell_type": "markdown",
   "metadata": {
    "slideshow": {
     "slide_type": "slide"
    }
   },
   "source": [
    "## The login_required decorator\n",
    "\n",
    "A big advantage of using the Django auth system is that it is trivialy easy to restrict access to certain viewed to logged in users only. Recall that a decorator is a callable that is used to modify a function or method (essentially it is a function that takes a function/method as a argument and returns a function/method)\n",
    "\n",
    "`views.py`\n",
    "```python \n",
    "from django.contrib.auth.decorators import login_required\n",
    "\n",
    "@login_required\n",
    "def member_update(request,member_id):\n",
    "    ...\n",
    "```\n"
   ]
  },
  {
   "cell_type": "code",
   "execution_count": null,
   "metadata": {
    "slideshow": {
     "slide_type": "slide"
    }
   },
   "outputs": [],
   "source": []
  }
 ],
 "metadata": {
  "celltoolbar": "Slideshow",
  "kernelspec": {
   "display_name": "Python 3",
   "language": "python",
   "name": "python3"
  },
  "language_info": {
   "codemirror_mode": {
    "name": "ipython",
    "version": 3
   },
   "file_extension": ".py",
   "mimetype": "text/x-python",
   "name": "python",
   "nbconvert_exporter": "python",
   "pygments_lexer": "ipython3",
   "version": "3.6.5"
  }
 },
 "nbformat": 4,
 "nbformat_minor": 2
}
