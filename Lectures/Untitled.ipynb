{
 "cells": [
  {
   "cell_type": "markdown",
   "metadata": {},
   "source": [
    "# Templates\n",
    "\n",
    "A template is a document or file having a preset format, used as a starting point for a particular application so that the format does not have to be recreated each time it is used. In Django, templates are typically used to create the HTML content of the HTTP response. Some advantages of this approach\n",
    "\n",
    "* It separates the **presentation logic** from the **business logic** (which is typically in the views and models)\n",
    "* We can take advantage of **template inheritance** (which follows DRY principles)\n",
    "* Front end developers can avoid having to interact with the views/models\n",
    "* We can choose a **template engine** specific to the needs of the project\n",
    "\n"
   ]
  },
  {
   "cell_type": "markdown",
   "metadata": {},
   "source": [
    "## The Django Template Engine\n",
    "In `clubmanager/templates/clubmanager/` create a file called `member.html`\n",
    "```html\n",
    "<!doctype html>\n",
    "<html>\n",
    "    <head>\n",
    "    </head>\n",
    "    <body>\n",
    "        <strong>First Name:</strong> {{ first_name }}\n",
    "        <br>\n",
    "        <strong>Last Name:</strong> {{ last_name }}\n",
    "    </body>\n",
    "</html>\n",
    "```"
   ]
  },
  {
   "cell_type": "code",
   "execution_count": null,
   "metadata": {},
   "outputs": [],
   "source": []
  }
 ],
 "metadata": {
  "kernelspec": {
   "display_name": "Python 3",
   "language": "python",
   "name": "python3"
  },
  "language_info": {
   "codemirror_mode": {
    "name": "ipython",
    "version": 3
   },
   "file_extension": ".py",
   "mimetype": "text/x-python",
   "name": "python",
   "nbconvert_exporter": "python",
   "pygments_lexer": "ipython3",
   "version": "3.6.2"
  }
 },
 "nbformat": 4,
 "nbformat_minor": 2
}
