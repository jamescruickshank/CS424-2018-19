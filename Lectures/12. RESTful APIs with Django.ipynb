{
 "cells": [
  {
   "cell_type": "markdown",
   "metadata": {
    "slideshow": {
     "slide_type": "slide"
    }
   },
   "source": [
    "# Django and REST\n",
    "\n",
    "Our goal in this section is to implement a restful web service API (=Application Programming Interface). Recall some of the basic characteristics of RESTful APIs\n",
    "\n",
    "* Everything is a resource and resources correspond with URIs. URIs should be meaningful description of resources\n",
    "* HTTP verbs should be implemented correctly\n",
    "* HATEOAS (Hypermedia As The Engine Of Application State)\n",
    "* Stateless interactions: client state is not preserved on the server\n",
    "\n",
    "Django REST framework makes it easy to implement a restful api in many situations (project homepage https://www.django-rest-framework.org/ )"
   ]
  },
  {
   "cell_type": "markdown",
   "metadata": {
    "slideshow": {
     "slide_type": "slide"
    }
   },
   "source": [
    "There is a basic implentation of a restful api using Django REST framework in the sample application. Some notes on implementaton (see https://www.django-rest-framework.org/ for more detail)\n",
    "\n",
    "* activate the virtual environment and run `pip install djangorestframework` in the terminal  to install Django REST\n",
    "\n",
    "* a basic checklist: you need to \n",
    "    1. implement some serializers  - these tell Django how to serialize your models into your data format of choice (serializers.py)\n",
    "    2. implement a viewset for each Model - these provide standardised list and detail views for the api (views.py)\n",
    "    3. set up the api URL schema using the routers provided by Django REST (urls,py)\n",
    "    4. make sure that `'rest_framework'` is included in the list of installed apps in `settings.py`\n",
    " \n",
    " There are many other options for customisation - explore Django REST docs to see the possibilities\n"
   ]
  },
  {
   "cell_type": "markdown",
   "metadata": {
    "slideshow": {
     "slide_type": "slide"
    }
   },
   "source": [
    "* Note that the data is provided in JSON format by default. JSON = Javascript Object Notation is a widely used, lightweight data transfer format. The syntax is very similar (but not identical!) to that of Python dictionaries and list. See https://www.json.org/ for a full spec. \n",
    "* Most high level languages have standard libraries/packages for parsing JSON data. Python has the json module\n",
    "* Other formats are supported by Django REST (eg XML)\n",
    "* A link to a nice discussion of Web APIs and REST https://martinfowler.com/articles/richardsonMaturityModel.html"
   ]
  },
  {
   "cell_type": "code",
   "execution_count": null,
   "metadata": {
    "slideshow": {
     "slide_type": "slide"
    }
   },
   "outputs": [],
   "source": []
  }
 ],
 "metadata": {
  "celltoolbar": "Slideshow",
  "kernelspec": {
   "display_name": "Python 3",
   "language": "python",
   "name": "python3"
  },
  "language_info": {
   "codemirror_mode": {
    "name": "ipython",
    "version": 3
   },
   "file_extension": ".py",
   "mimetype": "text/x-python",
   "name": "python",
   "nbconvert_exporter": "python",
   "pygments_lexer": "ipython3",
   "version": "3.6.5"
  }
 },
 "nbformat": 4,
 "nbformat_minor": 2
}
